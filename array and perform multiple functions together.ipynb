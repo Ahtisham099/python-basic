{
  "nbformat": 4,
  "nbformat_minor": 0,
  "metadata": {
    "colab": {
      "provenance": [],
      "gpuType": "T4",
      "authorship_tag": "ABX9TyNcM5ASEECJUse3awRd/5Xy",
      "include_colab_link": true
    },
    "kernelspec": {
      "name": "python3",
      "display_name": "Python 3"
    },
    "language_info": {
      "name": "python"
    },
    "accelerator": "GPU"
  },
  "cells": [
    {
      "cell_type": "markdown",
      "metadata": {
        "id": "view-in-github",
        "colab_type": "text"
      },
      "source": [
        "<a href=\"https://colab.research.google.com/github/Ahtisham099/python-basic/blob/main/array%20and%20perform%20multiple%20functions%20together.ipynb\" target=\"_parent\"><img src=\"https://colab.research.google.com/assets/colab-badge.svg\" alt=\"Open In Colab\"/></a>"
      ]
    },
    {
      "cell_type": "code",
      "source": [
        "\n",
        "def add_to_array(arr, num):\n",
        "    arr.append(num)\n",
        "    print(f\"Added {num} to the array.\")\n",
        "\n",
        "\n",
        "def calculate_sum(arr):\n",
        "    return sum(arr)\n",
        "\n",
        "\n",
        "def find_max(arr):\n",
        "    return max(arr)\n",
        "\n",
        "\n",
        "def search_number(arr, num):\n",
        "    if num in arr:\n",
        "        return f\"{num} found at index {arr.index(num)}\"\n",
        "    else:\n",
        "        return f\"{num} not found in the array.\"\n",
        "\n",
        "\n",
        "def main():\n",
        "    array = []\n",
        "\n",
        "\n",
        "    add_to_array(array, 10)\n",
        "    add_to_array(array, 20)\n",
        "    add_to_array(array, 30)\n",
        "\n",
        "    print(\"Current array:\", array)\n",
        "\n",
        "\n",
        "    total = calculate_sum(array)\n",
        "    print(f\"Sum of array: {total}\")\n",
        "\n",
        "\n",
        "    maximum = find_max(array)\n",
        "    print(f\"Maximum number in the array: {maximum}\")\n",
        "\n",
        "\n",
        "    search_result = search_number(array, 20)\n",
        "    print(search_result)\n",
        "\n",
        "    search_result = search_number(array, 50)\n",
        "    print(search_result)\n",
        "\n",
        "\n",
        "if __name__ == \"__main__\":\n",
        "    main()\n"
      ],
      "metadata": {
        "colab": {
          "base_uri": "https://localhost:8080/"
        },
        "id": "o7iY-oiEMRk7",
        "outputId": "2d698cbf-8531-4199-c902-d6761758ade9"
      },
      "execution_count": 12,
      "outputs": [
        {
          "output_type": "stream",
          "name": "stdout",
          "text": [
            "Added 10 to the array.\n",
            "Added 20 to the array.\n",
            "Added 30 to the array.\n",
            "Current array: [10, 20, 30]\n",
            "Sum of array: 60\n",
            "Maximum number in the array: 30\n",
            "20 found at index 1\n",
            "50 not found in the array.\n"
          ]
        }
      ]
    }
  ]
}